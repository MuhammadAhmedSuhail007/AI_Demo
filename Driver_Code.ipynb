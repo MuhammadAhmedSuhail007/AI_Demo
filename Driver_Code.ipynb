{
 "cells": [
  {
   "cell_type": "code",
   "execution_count": 211,
   "metadata": {},
   "outputs": [],
   "source": [
    "from opener import generate_email\n",
    "from escalator import escalator\n",
    "import pandas as pd"
   ]
  },
  {
   "cell_type": "code",
   "execution_count": 212,
   "metadata": {},
   "outputs": [],
   "source": [
    "df = pd.read_csv(\"./leads.csv\", skiprows=3)\n",
    "    \n",
    "# Drop fully empty rows and columns\n",
    "df.dropna(how='all', axis=0, inplace=True)\n",
    "df.dropna(how='all', axis=1, inplace=True)\n",
    "\n",
    "# Rename the columns based on their actual headers in the file\n",
    "df.columns = ['Name', 'Job Title', 'Organization', 'Company Size', 'Department', 'Project Title', 'Looking For', 'Lead Response']\n",
    "\n",
    "if df.iloc[0, 0] == 'Name':\n",
    "    df = df.drop(df.index[0]).reset_index(drop=True)"
   ]
  },
  {
   "cell_type": "code",
   "execution_count": 210,
   "metadata": {},
   "outputs": [
    {
     "name": "stdout",
     "output_type": "stream",
     "text": [
      "**Subject: CentDoc Solution Inquiry**\n",
      "\n",
      "Dear Mr. Yaqub Qamar Ad Din Dibiazah,\n",
      "\n",
      "I hope this email finds you well. My name is Muhammad Ahmed Suhail from Antematter. I understand that Imaarat Tech is seeking a solution to address the issue of out-of-sync product manuals and software documentation.\n",
      "\n",
      "Your project, CentDoc, sounds like a promising solution to this challenge. I would be eager to learn more about the specific scope and budget you have in mind for this project. Additionally, could you provide insights into the current process for updating documentation and the desired improvements you aim to achieve with CentDoc?\n",
      "\n",
      "Please let me know if you are available for a brief call to discuss this further. I am confident that our team can provide you with a tailored solution that meets your specific requirements.\n",
      "\n",
      "Thank you for your time and consideration.\n",
      "\n",
      "Sincerely,\n",
      "Muhammad Ahmed Suhail\n"
     ]
    }
   ],
   "source": [
    "# Opener Driver Code\n",
    "print(generate_email(df.iloc[0]))"
   ]
  },
  {
   "cell_type": "code",
   "execution_count": 214,
   "metadata": {},
   "outputs": [
    {
     "name": "stdout",
     "output_type": "stream",
     "text": [
      "escalate\n"
     ]
    }
   ],
   "source": [
    "# Escalator Driver Code\n",
    "print(escalator(df.iloc[0][\"Lead Response\"]))"
   ]
  }
 ],
 "metadata": {
  "kernelspec": {
   "display_name": "Python 3",
   "language": "python",
   "name": "python3"
  },
  "language_info": {
   "codemirror_mode": {
    "name": "ipython",
    "version": 3
   },
   "file_extension": ".py",
   "mimetype": "text/x-python",
   "name": "python",
   "nbconvert_exporter": "python",
   "pygments_lexer": "ipython3",
   "version": "3.11.1"
  }
 },
 "nbformat": 4,
 "nbformat_minor": 2
}
